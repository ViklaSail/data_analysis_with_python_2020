{
 "cells": [
  {
   "cell_type": "markdown",
   "metadata": {},
   "source": [
    "<!--NAVIGATION-->\n",
    "\n",
    "\n",
    "<a href=\"https://colab.research.google.com/github/saskeli/x/blob/master/instructions.ipynb\"><img align=\"left\" src=\"https://colab.research.google.com/assets/colab-badge.svg\" alt=\"Open in Colab\" title=\"Open and Execute in Google Colaboratory\"></a>\n",
    "\n"
   ]
  },
  {
   "cell_type": "markdown",
   "metadata": {},
   "source": [
    "# Initializing course environment"
   ]
  },
  {
   "cell_type": "markdown",
   "metadata": {},
   "source": [
    "## 1 Install Python and the needed external packages\n",
    "\n",
    "### (alternative a) Install full anaconda distribution\n",
    "\n",
    "* This is the recommended alternative\n",
    "* Will take about 3.3 gigabytes of disk space\n",
    "* Download the anaconda installer for your OS (64bits, Python 3) from https://www.anaconda.com/download\n",
    "* Install anaconda\n",
    "    * **Linux:** On command line run `bash nameofthedownloadedfile`\n",
    "    * **Windows:** Execute the installer you downloaded\n",
    "* Follow the instructions of the installer\n",
    "* Takes about 3 minutes\n",
    "* **windows:** In the anaconda navigator, start the conda prompt.\n",
    "* Verify that your installation is complete by downloading the script [versions.py](https://raw.githubusercontent.com/saskeli/data-analysis-with-python-summer-2019/master/versions.py) and run it with `python versions.py`.\n",
    "\n",
    "### (alternative b) Install miniconda and Python packages\n",
    "* This alternative is not recommended\n",
    "* Will take about 2.3 gigabytes of disk space\n",
    "* Download miniconda installer (64bits, Python 3) from https://conda.io/miniconda.html\n",
    "* Run the installer\n",
    "    * **Linux:** On the command line run `bash nameofthedownloadedfile`\n",
    "    * **Windows:** Execute the downloaded installler\n",
    "* Activate the miniconda environment\n",
    "    * **Linux and MacOS:** `source /miniconda/install/location/bin/activate`\n",
    "    * **Windows:** Start the anaconda command prompts\n",
    "* Download the [requirements.txt](https://raw.githubusercontent.com/saskeli/data-analysis-with-python-summer-2019/master/requirements.txt) file\n",
    "* Install the required packages with `conda install --yes --file requirements.txt`\n",
    "  This may take awhile. (About 1 min 30 s on fast network)"
   ]
  },
  {
   "cell_type": "markdown",
   "metadata": {},
   "source": [
    "## 2 Log in to the course\n",
    "\n",
    "* Go to the [exercise page](https://tmc.mooc.fi/org/hy/courses/614) of the course\n",
    "* If you don't already have an account on this server, press the signup button\n",
    "* Use your student number as the organizational id, if you want to get credits from this course.\n",
    "  Note for old-timers: it is not enough, that you have your student number as your user name in TMC, \n",
    "  in fact, that is not even recommended anymore.\n",
    "* Choose organization Helsingin yliopisto\n",
    "* Choose course Data Analysis with Python Spring 2020"
   ]
  },
  {
   "cell_type": "markdown",
   "metadata": {},
   "source": [
    "## 3 Install TMC client\n",
    "\n",
    "### Suggested approach (With anaconda navigator installed)\n",
    "\n",
    "The [TMC extension for VS Code](https://github.com/rage/tmc-vscode) is new and may contain bugs. That said, it does seem to work well and is significantly more approachable than the TMC CLI. Below is a very short point-to-point guide for setup. Visit the linked page for more information.\n",
    "\n",
    "* Install `VS Code` in the home tab on anaconda navigator\n",
    "* Launch `VS Code`\n",
    "* Under the `Extensions` tab on the left (Four squares), look for `TestMyCode` *MOOC.fi – University of Helsinki*\n",
    "* Install the Extension\n",
    "* You will see a new `TMC` tab int the left section of VS Code. \n",
    "* Follow the directions to log in and select the correct course.\n",
    "* After selectin the course, it is added to your courses in VS Code, After this you can access a \"course page\" in VS Code to download exercises\n",
    "* Now you can access the exercises by clicking `Open exercise workspace`.\n",
    "* As you complete exercises you can run tests locally by clicking the `TMC - run tests` button on the top right.\n",
    "* After passing the local test, you can submit to server from the test results.\n",
    "\n",
    "\n",
    "\n",
    "### Alternative approach (TMC CLI)\n",
    "\n",
    "* TMC requires a fairly modern java 8 or later to work properly.\n",
    "    * open jdk 1.8.0_212 for example works\n",
    "    * as do all 11.x and 12.x versions i've seen.\n",
    "    * you can try to install and run tmc and update your java install if logging in with the cli fails.\n",
    "* Follow the instructions on the following page to install TMC client \n",
    "    https://github.com/testmycode/tmc-cli\n",
    "* Note that on this course we use the command line version of TMC, not netbeans or any other IDE. So, you need to know the basics of command line use in the terminal/command prompt\n",
    "* Go to a folder where you want to download the exercises, and issue command `tmc login`\n",
    "* If it asks for a server address, then your TMC client is outdated. Re-install the client. Note, that the installation script was updated very recently (12.3.2019). So, if you had problems with it, you might want to try again.\n",
    "* Provide login details, and use organization slug `hy`\n",
    "* Then issue command `tmc download hy-data-analysis-with-python-spring-2020` to download the exercises\n",
    "* Important commands:\n",
    "  * `tmc` to show help message\n",
    "  * `tmc test` to test your solution locally\n",
    "  * `tmc submit` to submit your solution to the server for grading\n",
    "* The above github page of the tmc-client also contains instructions on the use of the client"
   ]
  },
  {
   "cell_type": "markdown",
   "metadata": {},
   "source": [
    "<!--NAVIGATION-->\n",
    "\n",
    "\n",
    "<a href=\"https://colab.research.google.com/github/saskeli/x/blob/master/instructions.ipynb\"><img align=\"left\" src=\"https://colab.research.google.com/assets/colab-badge.svg\" alt=\"Open in Colab\" title=\"Open and Execute in Google Colaboratory\"></a>\n"
   ]
  }
 ],
 "metadata": {
  "kernelspec": {
   "display_name": "Python 3",
   "language": "python",
   "name": "python3"
  },
  "language_info": {
   "codemirror_mode": {
    "name": "ipython",
    "version": 3
   },
   "file_extension": ".py",
   "mimetype": "text/x-python",
   "name": "python",
   "nbconvert_exporter": "python",
   "pygments_lexer": "ipython3",
   "version": "3.7.3"
  },
  "varInspector": {
   "cols": {
    "lenName": 16,
    "lenType": 16,
    "lenVar": 40
   },
   "kernels_config": {
    "python": {
     "delete_cmd_postfix": "",
     "delete_cmd_prefix": "del ",
     "library": "var_list.py",
     "varRefreshCmd": "print(var_dic_list())"
    },
    "r": {
     "delete_cmd_postfix": ") ",
     "delete_cmd_prefix": "rm(",
     "library": "var_list.r",
     "varRefreshCmd": "cat(var_dic_list()) "
    }
   },
   "types_to_exclude": [
    "module",
    "function",
    "builtin_function_or_method",
    "instance",
    "_Feature"
   ],
   "window_display": false
  }
 },
 "nbformat": 4,
 "nbformat_minor": 2
}
